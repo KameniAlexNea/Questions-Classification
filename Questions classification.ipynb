{
 "cells": [
  {
   "cell_type": "markdown",
   "metadata": {},
   "source": [
    "### Summary\n",
    "\n",
    "Dans ce notebook, nous allons présenter un résumé des méthodes utilisées tout au long du stage pré-ingénieur au laboratoire de l'ENSP.\n",
    "\n",
    "Le but de ce présent document est le résumé des tâches de classifications de questions par niveau de bloom\n",
    "\n",
    "1. Analyse des données recceuillies\n",
    "\n",
    "2. Néttoyage du jeu de données\n",
    "\n",
    "3. Utilisation de l'approche statistique <br/>\n",
    "**Score**: 30\n",
    "\n",
    "4. Utilisation de l'approche ML classique <br/>\n",
    "**Score**: 84\n",
    "\n",
    "5. Voting classifier entre les meilleurs modèles <br/>\n",
    "**Score**:  85\n",
    "\n",
    "6. Approche deeplearning : MLP\n",
    "\n",
    "7. Approche deeplearning : Fine-tuning <br/>\n",
    "**Score**:  83\n",
    "\n",
    "8. Approche mixte"
   ]
  },
  {
   "cell_type": "markdown",
   "metadata": {},
   "source": [
    "### Importer les librairies d'analyse de données"
   ]
  },
  {
   "cell_type": "code",
   "execution_count": 1,
   "metadata": {},
   "outputs": [],
   "source": [
    "import numpy as np\n",
    "import pandas as pd\n",
    "import pickle\n",
    "from matplotlib import pyplot as plt\n",
    "import seaborn as sns"
   ]
  },
  {
   "cell_type": "code",
   "execution_count": 2,
   "metadata": {},
   "outputs": [
    {
     "data": {
      "text/plain": [
       "['APPLYING.csv',\n",
       " 'REMEMBERING.csv',\n",
       " 'EVALUATING.csv',\n",
       " 'CREATING.csv',\n",
       " 'ANALYZING.csv',\n",
       " 'UNDERSTANDING.csv']"
      ]
     },
     "execution_count": 2,
     "metadata": {},
     "output_type": "execute_result"
    }
   ],
   "source": [
    "from os import walk\n",
    "\n",
    "_, _, filenames = next(walk(\"./output/verbs/\"))\n",
    "filenames"
   ]
  },
  {
   "cell_type": "code",
   "execution_count": 3,
   "metadata": {},
   "outputs": [
    {
     "data": {
      "text/plain": [
       "'APPLYING'"
      ]
     },
     "execution_count": 3,
     "metadata": {},
     "output_type": "execute_result"
    }
   ],
   "source": [
    "filenames[0].split(\".\")[0]"
   ]
  },
  {
   "cell_type": "code",
   "execution_count": 4,
   "metadata": {},
   "outputs": [],
   "source": [
    "def describe(df, name):\n",
    "    print(\"File name \"+name)\n",
    "    print(df[name].describe())"
   ]
  },
  {
   "cell_type": "markdown",
   "metadata": {},
   "source": [
    "### Charger le jeu de données des verbes\n",
    "\n",
    "Ces données sont contenues dans le dossier **VERBS_PATH**"
   ]
  },
  {
   "cell_type": "code",
   "execution_count": 5,
   "metadata": {},
   "outputs": [
    {
     "name": "stdout",
     "output_type": "stream",
     "text": [
      "File name APPLYING\n",
      "       APPLYING\n",
      "count        43\n",
      "unique       43\n",
      "top     categor\n",
      "freq          1\n",
      "\n",
      "File name REMEMBERING\n",
      "       REMEMBERING\n",
      "count           29\n",
      "unique          29\n",
      "top          recal\n",
      "freq             1\n",
      "\n",
      "File name EVALUATING\n",
      "       EVALUATING\n",
      "count          33\n",
      "unique         33\n",
      "top        select\n",
      "freq            1\n",
      "\n",
      "File name CREATING\n",
      "       CREATING\n",
      "count        34\n",
      "unique       34\n",
      "top     assembl\n",
      "freq          1\n",
      "\n",
      "File name ANALYZING\n",
      "       ANALYZING\n",
      "count         43\n",
      "unique        43\n",
      "top       arrang\n",
      "freq           1\n",
      "\n",
      "File name UNDERSTANDING\n",
      "       UNDERSTANDING\n",
      "count             32\n",
      "unique            32\n",
      "top          express\n",
      "freq               1\n",
      "\n"
     ]
    }
   ],
   "source": [
    "data = {}\n",
    "VERBS_PATH = \"./output/verbs/\"\n",
    "for filename in filenames:\n",
    "    name = filename.split(\".\")[0]\n",
    "    data[name] = pd.read_csv(VERBS_PATH+filename)\n",
    "    describe(data, name)\n",
    "    print()"
   ]
  },
  {
   "cell_type": "code",
   "execution_count": 6,
   "metadata": {
    "scrolled": true
   },
   "outputs": [
    {
     "data": {
      "text/html": [
       "<div>\n",
       "<style scoped>\n",
       "    .dataframe tbody tr th:only-of-type {\n",
       "        vertical-align: middle;\n",
       "    }\n",
       "\n",
       "    .dataframe tbody tr th {\n",
       "        vertical-align: top;\n",
       "    }\n",
       "\n",
       "    .dataframe thead th {\n",
       "        text-align: right;\n",
       "    }\n",
       "</style>\n",
       "<table border=\"1\" class=\"dataframe\">\n",
       "  <thead>\n",
       "    <tr style=\"text-align: right;\">\n",
       "      <th></th>\n",
       "      <th>APPLYING</th>\n",
       "    </tr>\n",
       "  </thead>\n",
       "  <tbody>\n",
       "    <tr>\n",
       "      <th>0</th>\n",
       "      <td>administ</td>\n",
       "    </tr>\n",
       "    <tr>\n",
       "      <th>1</th>\n",
       "      <td>appli</td>\n",
       "    </tr>\n",
       "    <tr>\n",
       "      <th>2</th>\n",
       "      <td>assembl</td>\n",
       "    </tr>\n",
       "    <tr>\n",
       "      <th>3</th>\n",
       "      <td>calcul</td>\n",
       "    </tr>\n",
       "    <tr>\n",
       "      <th>4</th>\n",
       "      <td>categor</td>\n",
       "    </tr>\n",
       "  </tbody>\n",
       "</table>\n",
       "</div>"
      ],
      "text/plain": [
       "   APPLYING\n",
       "0  administ\n",
       "1     appli\n",
       "2   assembl\n",
       "3    calcul\n",
       "4   categor"
      ]
     },
     "metadata": {},
     "output_type": "display_data"
    },
    {
     "data": {
      "text/html": [
       "<div>\n",
       "<style scoped>\n",
       "    .dataframe tbody tr th:only-of-type {\n",
       "        vertical-align: middle;\n",
       "    }\n",
       "\n",
       "    .dataframe tbody tr th {\n",
       "        vertical-align: top;\n",
       "    }\n",
       "\n",
       "    .dataframe thead th {\n",
       "        text-align: right;\n",
       "    }\n",
       "</style>\n",
       "<table border=\"1\" class=\"dataframe\">\n",
       "  <thead>\n",
       "    <tr style=\"text-align: right;\">\n",
       "      <th></th>\n",
       "      <th>REMEMBERING</th>\n",
       "    </tr>\n",
       "  </thead>\n",
       "  <tbody>\n",
       "    <tr>\n",
       "      <th>0</th>\n",
       "      <td>associ</td>\n",
       "    </tr>\n",
       "    <tr>\n",
       "      <th>1</th>\n",
       "      <td>cite</td>\n",
       "    </tr>\n",
       "    <tr>\n",
       "      <th>2</th>\n",
       "      <td>collect</td>\n",
       "    </tr>\n",
       "    <tr>\n",
       "      <th>3</th>\n",
       "      <td>copi</td>\n",
       "    </tr>\n",
       "    <tr>\n",
       "      <th>4</th>\n",
       "      <td>defin</td>\n",
       "    </tr>\n",
       "  </tbody>\n",
       "</table>\n",
       "</div>"
      ],
      "text/plain": [
       "  REMEMBERING\n",
       "0      associ\n",
       "1        cite\n",
       "2     collect\n",
       "3        copi\n",
       "4       defin"
      ]
     },
     "metadata": {},
     "output_type": "display_data"
    },
    {
     "data": {
      "text/html": [
       "<div>\n",
       "<style scoped>\n",
       "    .dataframe tbody tr th:only-of-type {\n",
       "        vertical-align: middle;\n",
       "    }\n",
       "\n",
       "    .dataframe tbody tr th {\n",
       "        vertical-align: top;\n",
       "    }\n",
       "\n",
       "    .dataframe thead th {\n",
       "        text-align: right;\n",
       "    }\n",
       "</style>\n",
       "<table border=\"1\" class=\"dataframe\">\n",
       "  <thead>\n",
       "    <tr style=\"text-align: right;\">\n",
       "      <th></th>\n",
       "      <th>EVALUATING</th>\n",
       "    </tr>\n",
       "  </thead>\n",
       "  <tbody>\n",
       "    <tr>\n",
       "      <th>0</th>\n",
       "      <td>appreci</td>\n",
       "    </tr>\n",
       "    <tr>\n",
       "      <th>1</th>\n",
       "      <td>argu</td>\n",
       "    </tr>\n",
       "    <tr>\n",
       "      <th>2</th>\n",
       "      <td>attack</td>\n",
       "    </tr>\n",
       "    <tr>\n",
       "      <th>3</th>\n",
       "      <td>calcul</td>\n",
       "    </tr>\n",
       "    <tr>\n",
       "      <th>4</th>\n",
       "      <td>choos</td>\n",
       "    </tr>\n",
       "  </tbody>\n",
       "</table>\n",
       "</div>"
      ],
      "text/plain": [
       "  EVALUATING\n",
       "0    appreci\n",
       "1       argu\n",
       "2     attack\n",
       "3     calcul\n",
       "4      choos"
      ]
     },
     "metadata": {},
     "output_type": "display_data"
    },
    {
     "data": {
      "text/html": [
       "<div>\n",
       "<style scoped>\n",
       "    .dataframe tbody tr th:only-of-type {\n",
       "        vertical-align: middle;\n",
       "    }\n",
       "\n",
       "    .dataframe tbody tr th {\n",
       "        vertical-align: top;\n",
       "    }\n",
       "\n",
       "    .dataframe thead th {\n",
       "        text-align: right;\n",
       "    }\n",
       "</style>\n",
       "<table border=\"1\" class=\"dataframe\">\n",
       "  <thead>\n",
       "    <tr style=\"text-align: right;\">\n",
       "      <th></th>\n",
       "      <th>CREATING</th>\n",
       "    </tr>\n",
       "  </thead>\n",
       "  <tbody>\n",
       "    <tr>\n",
       "      <th>0</th>\n",
       "      <td>adapt</td>\n",
       "    </tr>\n",
       "    <tr>\n",
       "      <th>1</th>\n",
       "      <td>anticip</td>\n",
       "    </tr>\n",
       "    <tr>\n",
       "      <th>2</th>\n",
       "      <td>arrang</td>\n",
       "    </tr>\n",
       "    <tr>\n",
       "      <th>3</th>\n",
       "      <td>assembl</td>\n",
       "    </tr>\n",
       "    <tr>\n",
       "      <th>4</th>\n",
       "      <td>build</td>\n",
       "    </tr>\n",
       "  </tbody>\n",
       "</table>\n",
       "</div>"
      ],
      "text/plain": [
       "  CREATING\n",
       "0    adapt\n",
       "1  anticip\n",
       "2   arrang\n",
       "3  assembl\n",
       "4    build"
      ]
     },
     "metadata": {},
     "output_type": "display_data"
    },
    {
     "data": {
      "text/html": [
       "<div>\n",
       "<style scoped>\n",
       "    .dataframe tbody tr th:only-of-type {\n",
       "        vertical-align: middle;\n",
       "    }\n",
       "\n",
       "    .dataframe tbody tr th {\n",
       "        vertical-align: top;\n",
       "    }\n",
       "\n",
       "    .dataframe thead th {\n",
       "        text-align: right;\n",
       "    }\n",
       "</style>\n",
       "<table border=\"1\" class=\"dataframe\">\n",
       "  <thead>\n",
       "    <tr style=\"text-align: right;\">\n",
       "      <th></th>\n",
       "      <th>ANALYZING</th>\n",
       "    </tr>\n",
       "  </thead>\n",
       "  <tbody>\n",
       "    <tr>\n",
       "      <th>0</th>\n",
       "      <td>analyz</td>\n",
       "    </tr>\n",
       "    <tr>\n",
       "      <th>1</th>\n",
       "      <td>arrang</td>\n",
       "    </tr>\n",
       "    <tr>\n",
       "      <th>2</th>\n",
       "      <td>associ</td>\n",
       "    </tr>\n",
       "    <tr>\n",
       "      <th>3</th>\n",
       "      <td>break up</td>\n",
       "    </tr>\n",
       "    <tr>\n",
       "      <th>4</th>\n",
       "      <td>calcul</td>\n",
       "    </tr>\n",
       "  </tbody>\n",
       "</table>\n",
       "</div>"
      ],
      "text/plain": [
       "  ANALYZING\n",
       "0    analyz\n",
       "1    arrang\n",
       "2    associ\n",
       "3  break up\n",
       "4    calcul"
      ]
     },
     "metadata": {},
     "output_type": "display_data"
    },
    {
     "data": {
      "text/html": [
       "<div>\n",
       "<style scoped>\n",
       "    .dataframe tbody tr th:only-of-type {\n",
       "        vertical-align: middle;\n",
       "    }\n",
       "\n",
       "    .dataframe tbody tr th {\n",
       "        vertical-align: top;\n",
       "    }\n",
       "\n",
       "    .dataframe thead th {\n",
       "        text-align: right;\n",
       "    }\n",
       "</style>\n",
       "<table border=\"1\" class=\"dataframe\">\n",
       "  <thead>\n",
       "    <tr style=\"text-align: right;\">\n",
       "      <th></th>\n",
       "      <th>UNDERSTANDING</th>\n",
       "    </tr>\n",
       "  </thead>\n",
       "  <tbody>\n",
       "    <tr>\n",
       "      <th>0</th>\n",
       "      <td>apprehend</td>\n",
       "    </tr>\n",
       "    <tr>\n",
       "      <th>1</th>\n",
       "      <td>associ</td>\n",
       "    </tr>\n",
       "    <tr>\n",
       "      <th>2</th>\n",
       "      <td>classifi</td>\n",
       "    </tr>\n",
       "    <tr>\n",
       "      <th>3</th>\n",
       "      <td>compar</td>\n",
       "    </tr>\n",
       "    <tr>\n",
       "      <th>4</th>\n",
       "      <td>convert</td>\n",
       "    </tr>\n",
       "  </tbody>\n",
       "</table>\n",
       "</div>"
      ],
      "text/plain": [
       "  UNDERSTANDING\n",
       "0     apprehend\n",
       "1        associ\n",
       "2      classifi\n",
       "3        compar\n",
       "4       convert"
      ]
     },
     "metadata": {},
     "output_type": "display_data"
    }
   ],
   "source": [
    "for _, value in data.items():\n",
    "    display(value.head())"
   ]
  },
  {
   "cell_type": "code",
   "execution_count": 7,
   "metadata": {},
   "outputs": [
    {
     "data": {
      "text/html": [
       "<div>\n",
       "<style scoped>\n",
       "    .dataframe tbody tr th:only-of-type {\n",
       "        vertical-align: middle;\n",
       "    }\n",
       "\n",
       "    .dataframe tbody tr th {\n",
       "        vertical-align: top;\n",
       "    }\n",
       "\n",
       "    .dataframe thead th {\n",
       "        text-align: right;\n",
       "    }\n",
       "</style>\n",
       "<table border=\"1\" class=\"dataframe\">\n",
       "  <thead>\n",
       "    <tr style=\"text-align: right;\">\n",
       "      <th></th>\n",
       "      <th>QUERY</th>\n",
       "      <th>REMEMBERING</th>\n",
       "      <th>UNDERSTANDING</th>\n",
       "      <th>APPLYING</th>\n",
       "      <th>ANALYZING</th>\n",
       "      <th>EVALUATING</th>\n",
       "      <th>CREATING</th>\n",
       "    </tr>\n",
       "  </thead>\n",
       "  <tbody>\n",
       "    <tr>\n",
       "      <th>0</th>\n",
       "      <td>\"their own language\" means  _  .</td>\n",
       "      <td>1.0</td>\n",
       "      <td>0.0</td>\n",
       "      <td>0.0</td>\n",
       "      <td>0.0</td>\n",
       "      <td>0.0</td>\n",
       "      <td>0.0</td>\n",
       "    </tr>\n",
       "    <tr>\n",
       "      <th>1</th>\n",
       "      <td>\"you may think the popular singer jay chow is ...</td>\n",
       "      <td>0.0</td>\n",
       "      <td>1.0</td>\n",
       "      <td>0.0</td>\n",
       "      <td>0.0</td>\n",
       "      <td>0.0</td>\n",
       "      <td>0.0</td>\n",
       "    </tr>\n",
       "    <tr>\n",
       "      <th>2</th>\n",
       "      <td>. at midnight, nasreddin saw   _  in his garden.</td>\n",
       "      <td>1.0</td>\n",
       "      <td>0.0</td>\n",
       "      <td>0.0</td>\n",
       "      <td>0.0</td>\n",
       "      <td>0.0</td>\n",
       "      <td>0.0</td>\n",
       "    </tr>\n",
       "    <tr>\n",
       "      <th>3</th>\n",
       "      <td>. david beckham  is   _   years old.</td>\n",
       "      <td>1.0</td>\n",
       "      <td>0.0</td>\n",
       "      <td>0.0</td>\n",
       "      <td>0.0</td>\n",
       "      <td>0.0</td>\n",
       "      <td>0.0</td>\n",
       "    </tr>\n",
       "    <tr>\n",
       "      <th>4</th>\n",
       "      <td>. david beckham's family name is   _  and zhou...</td>\n",
       "      <td>1.0</td>\n",
       "      <td>0.0</td>\n",
       "      <td>0.0</td>\n",
       "      <td>0.0</td>\n",
       "      <td>0.0</td>\n",
       "      <td>0.0</td>\n",
       "    </tr>\n",
       "  </tbody>\n",
       "</table>\n",
       "</div>"
      ],
      "text/plain": [
       "                                               QUERY  REMEMBERING  \\\n",
       "0                   \"their own language\" means  _  .          1.0   \n",
       "1  \"you may think the popular singer jay chow is ...          0.0   \n",
       "2   . at midnight, nasreddin saw   _  in his garden.          1.0   \n",
       "3               . david beckham  is   _   years old.          1.0   \n",
       "4  . david beckham's family name is   _  and zhou...          1.0   \n",
       "\n",
       "   UNDERSTANDING  APPLYING  ANALYZING  EVALUATING  CREATING  \n",
       "0            0.0       0.0        0.0         0.0       0.0  \n",
       "1            1.0       0.0        0.0         0.0       0.0  \n",
       "2            0.0       0.0        0.0         0.0       0.0  \n",
       "3            0.0       0.0        0.0         0.0       0.0  \n",
       "4            0.0       0.0        0.0         0.0       0.0  "
      ]
     },
     "execution_count": 7,
     "metadata": {},
     "output_type": "execute_result"
    }
   ],
   "source": [
    "queries = pd.read_csv(\"./output/queries_df.csv\")\n",
    "queries.head()"
   ]
  },
  {
   "cell_type": "code",
   "execution_count": 8,
   "metadata": {},
   "outputs": [
    {
     "name": "stdout",
     "output_type": "stream",
     "text": [
      "can number lines go on forever like 1000000000000000000000000000 more years ?\n",
      "what happened to the information regarding codon recognition , peptide bond formation and translocation during the elongation process ?\n",
      "hello , why does the gdp protein `` prefer '' to bind to the alpha subunit and not the beta or gamma subunits ?\n",
      "can a function be flipped ?\n",
      "could you please tell the probability of no of jackpot winners since in that case the numerator would not be 1 , but instead be 120 and the denominator remains the same ?\n"
     ]
    }
   ],
   "source": [
    "for query in queries.QUERY.sample(15).head().values:\n",
    "    print(query)"
   ]
  },
  {
   "cell_type": "markdown",
   "metadata": {},
   "source": [
    "### Distribution des classes dans le jeu de données"
   ]
  },
  {
   "cell_type": "code",
   "execution_count": 9,
   "metadata": {},
   "outputs": [
    {
     "data": {
      "text/plain": [
       "REMEMBERING      45873.0\n",
       "UNDERSTANDING     8520.0\n",
       "APPLYING         23453.0\n",
       "ANALYZING        39990.0\n",
       "EVALUATING       16677.0\n",
       "CREATING         55286.0\n",
       "dtype: float64"
      ]
     },
     "execution_count": 9,
     "metadata": {},
     "output_type": "execute_result"
    }
   ],
   "source": [
    "queries[queries.columns[1:]].sum()"
   ]
  },
  {
   "cell_type": "code",
   "execution_count": 10,
   "metadata": {},
   "outputs": [
    {
     "data": {
      "text/plain": [
       "<matplotlib.axes._subplots.AxesSubplot at 0x7f67ffe1e240>"
      ]
     },
     "execution_count": 10,
     "metadata": {},
     "output_type": "execute_result"
    },
    {
     "data": {
      "image/png": "[encoded data removed]",
      "text/plain": [
       "<Figure size 432x288 with 1 Axes>"
      ]
     },
     "metadata": {
      "needs_background": "light"
     },
     "output_type": "display_data"
    }
   ],
   "source": [
    "queries[queries.columns[1:]].sum().plot.bar()"
   ]
  },
  {
   "cell_type": "code",
   "execution_count": 11,
   "metadata": {},
   "outputs": [
    {
     "data": {
      "text/plain": [
       "(189799, 7)"
      ]
     },
     "execution_count": 11,
     "metadata": {},
     "output_type": "execute_result"
    }
   ],
   "source": [
    "queries.shape"
   ]
  },
  {
   "cell_type": "markdown",
   "metadata": {},
   "source": [
    "### Approche statistique"
   ]
  },
  {
   "cell_type": "code",
   "execution_count": 12,
   "metadata": {},
   "outputs": [],
   "source": [
    "import models"
   ]
  },
  {
   "cell_type": "code",
   "execution_count": 13,
   "metadata": {},
   "outputs": [],
   "source": [
    "statistique = models.StatModel()"
   ]
  },
  {
   "cell_type": "code",
   "execution_count": 14,
   "metadata": {},
   "outputs": [],
   "source": [
    "def unidecode_text(text):\n",
    "    try:\n",
    "        text = unidecode.unidecode(text)\n",
    "    except:\n",
    "        pass\n",
    "    return text\n",
    "\n",
    "df = queries.QUERY.apply(unidecode_text)"
   ]
  },
  {
   "cell_type": "code",
   "execution_count": 15,
   "metadata": {},
   "outputs": [
    {
     "data": {
      "text/html": [
       "<div>\n",
       "<style scoped>\n",
       "    .dataframe tbody tr th:only-of-type {\n",
       "        vertical-align: middle;\n",
       "    }\n",
       "\n",
       "    .dataframe tbody tr th {\n",
       "        vertical-align: top;\n",
       "    }\n",
       "\n",
       "    .dataframe thead th {\n",
       "        text-align: right;\n",
       "    }\n",
       "</style>\n",
       "<table border=\"1\" class=\"dataframe\">\n",
       "  <thead>\n",
       "    <tr style=\"text-align: right;\">\n",
       "      <th></th>\n",
       "      <th>APPLYING</th>\n",
       "      <th>REMEMBERING</th>\n",
       "      <th>EVALUATING</th>\n",
       "      <th>CREATING</th>\n",
       "      <th>ANALYZING</th>\n",
       "      <th>UNDERSTANDING</th>\n",
       "    </tr>\n",
       "  </thead>\n",
       "  <tbody>\n",
       "    <tr>\n",
       "      <th>0</th>\n",
       "      <td>0</td>\n",
       "      <td>0</td>\n",
       "      <td>0</td>\n",
       "      <td>0</td>\n",
       "      <td>0</td>\n",
       "      <td>0</td>\n",
       "    </tr>\n",
       "    <tr>\n",
       "      <th>1</th>\n",
       "      <td>0</td>\n",
       "      <td>2</td>\n",
       "      <td>1</td>\n",
       "      <td>1</td>\n",
       "      <td>0</td>\n",
       "      <td>0</td>\n",
       "    </tr>\n",
       "    <tr>\n",
       "      <th>2</th>\n",
       "      <td>7</td>\n",
       "      <td>1</td>\n",
       "      <td>2</td>\n",
       "      <td>2</td>\n",
       "      <td>2</td>\n",
       "      <td>2</td>\n",
       "    </tr>\n",
       "    <tr>\n",
       "      <th>3</th>\n",
       "      <td>0</td>\n",
       "      <td>0</td>\n",
       "      <td>0</td>\n",
       "      <td>0</td>\n",
       "      <td>0</td>\n",
       "      <td>0</td>\n",
       "    </tr>\n",
       "    <tr>\n",
       "      <th>4</th>\n",
       "      <td>2</td>\n",
       "      <td>0</td>\n",
       "      <td>0</td>\n",
       "      <td>1</td>\n",
       "      <td>0</td>\n",
       "      <td>1</td>\n",
       "    </tr>\n",
       "    <tr>\n",
       "      <th>5</th>\n",
       "      <td>0</td>\n",
       "      <td>0</td>\n",
       "      <td>0</td>\n",
       "      <td>0</td>\n",
       "      <td>0</td>\n",
       "      <td>0</td>\n",
       "    </tr>\n",
       "    <tr>\n",
       "      <th>6</th>\n",
       "      <td>0</td>\n",
       "      <td>0</td>\n",
       "      <td>0</td>\n",
       "      <td>0</td>\n",
       "      <td>0</td>\n",
       "      <td>0</td>\n",
       "    </tr>\n",
       "    <tr>\n",
       "      <th>7</th>\n",
       "      <td>0</td>\n",
       "      <td>0</td>\n",
       "      <td>0</td>\n",
       "      <td>0</td>\n",
       "      <td>0</td>\n",
       "      <td>0</td>\n",
       "    </tr>\n",
       "    <tr>\n",
       "      <th>8</th>\n",
       "      <td>0</td>\n",
       "      <td>0</td>\n",
       "      <td>0</td>\n",
       "      <td>0</td>\n",
       "      <td>0</td>\n",
       "      <td>0</td>\n",
       "    </tr>\n",
       "    <tr>\n",
       "      <th>9</th>\n",
       "      <td>0</td>\n",
       "      <td>0</td>\n",
       "      <td>0</td>\n",
       "      <td>0</td>\n",
       "      <td>0</td>\n",
       "      <td>0</td>\n",
       "    </tr>\n",
       "  </tbody>\n",
       "</table>\n",
       "</div>"
      ],
      "text/plain": [
       "   APPLYING  REMEMBERING  EVALUATING  CREATING  ANALYZING  UNDERSTANDING\n",
       "0         0            0           0         0          0              0\n",
       "1         0            2           1         1          0              0\n",
       "2         7            1           2         2          2              2\n",
       "3         0            0           0         0          0              0\n",
       "4         2            0           0         1          0              1\n",
       "5         0            0           0         0          0              0\n",
       "6         0            0           0         0          0              0\n",
       "7         0            0           0         0          0              0\n",
       "8         0            0           0         0          0              0\n",
       "9         0            0           0         0          0              0"
      ]
     },
     "execution_count": 15,
     "metadata": {},
     "output_type": "execute_result"
    }
   ],
   "source": [
    "n_questions = 10\n",
    "head_paraphases = statistique.generate_bloom_result(phrases=df.head(n_questions).values)\n",
    "head_paraphases"
   ]
  },
  {
   "cell_type": "code",
   "execution_count": 16,
   "metadata": {},
   "outputs": [
    {
     "name": "stdout",
     "output_type": "stream",
     "text": [
      "\"their own language\" means  _  .\n",
      "\"you may think the popular singer jay chow is cool\". here \"cool\" means\n",
      ". at midnight, nasreddin saw   _  in his garden.\n",
      ". david beckham  is   _   years old.\n",
      ". david beckham's family name is   _  and zhou jielun's given name is   _  .\n",
      ". does mrs. green buy a bag of rice?\n",
      ". mimi likes   _  .\n",
      ". nasreddin was so frightened that he   _  .\n",
      ". there isn't a   _   in my room.\n",
      ". where's the supermarket?\n"
     ]
    }
   ],
   "source": [
    "for query in df.head(n_questions).values:\n",
    "    print(query)"
   ]
  },
  {
   "cell_type": "code",
   "execution_count": 17,
   "metadata": {},
   "outputs": [],
   "source": [
    "import clean_text as clearner"
   ]
  },
  {
   "cell_type": "code",
   "execution_count": 18,
   "metadata": {},
   "outputs": [
    {
     "name": "stdout",
     "output_type": "stream",
     "text": [
      "unidecode\n",
      "lower_text\n",
      "text_tokenize\n",
      "text_stemmer\n",
      "text_lemmatizer\n",
      "remove_URL\n",
      "remove_html\n",
      "remove_emoji\n",
      "remove_punctuation\n"
     ]
    }
   ],
   "source": [
    "clean_queries = clearner.clean_texts(queries.QUERY, show_progress=True)"
   ]
  },
  {
   "cell_type": "code",
   "execution_count": 19,
   "metadata": {},
   "outputs": [
    {
     "data": {
      "text/html": [
       "<div>\n",
       "<style scoped>\n",
       "    .dataframe tbody tr th:only-of-type {\n",
       "        vertical-align: middle;\n",
       "    }\n",
       "\n",
       "    .dataframe tbody tr th {\n",
       "        vertical-align: top;\n",
       "    }\n",
       "\n",
       "    .dataframe thead th {\n",
       "        text-align: right;\n",
       "    }\n",
       "</style>\n",
       "<table border=\"1\" class=\"dataframe\">\n",
       "  <thead>\n",
       "    <tr style=\"text-align: right;\">\n",
       "      <th></th>\n",
       "      <th>text</th>\n",
       "      <th>text_clean</th>\n",
       "    </tr>\n",
       "  </thead>\n",
       "  <tbody>\n",
       "    <tr>\n",
       "      <th>0</th>\n",
       "      <td>\"their own language\" means  _  .</td>\n",
       "      <td>their own languag mean</td>\n",
       "    </tr>\n",
       "    <tr>\n",
       "      <th>1</th>\n",
       "      <td>\"you may think the popular singer jay chow is ...</td>\n",
       "      <td>you may think the popular singer jay chow is c...</td>\n",
       "    </tr>\n",
       "    <tr>\n",
       "      <th>2</th>\n",
       "      <td>. at midnight, nasreddin saw   _  in his garden.</td>\n",
       "      <td>at midnight nasreddin saw in hi garden</td>\n",
       "    </tr>\n",
       "    <tr>\n",
       "      <th>3</th>\n",
       "      <td>. david beckham  is   _   years old.</td>\n",
       "      <td>david beckham is year old</td>\n",
       "    </tr>\n",
       "    <tr>\n",
       "      <th>4</th>\n",
       "      <td>. david beckham's family name is   _  and zhou...</td>\n",
       "      <td>david beckham famili name is and zhou jielun g...</td>\n",
       "    </tr>\n",
       "  </tbody>\n",
       "</table>\n",
       "</div>"
      ],
      "text/plain": [
       "                                                text  \\\n",
       "0                   \"their own language\" means  _  .   \n",
       "1  \"you may think the popular singer jay chow is ...   \n",
       "2   . at midnight, nasreddin saw   _  in his garden.   \n",
       "3               . david beckham  is   _   years old.   \n",
       "4  . david beckham's family name is   _  and zhou...   \n",
       "\n",
       "                                          text_clean  \n",
       "0                             their own languag mean  \n",
       "1  you may think the popular singer jay chow is c...  \n",
       "2             at midnight nasreddin saw in hi garden  \n",
       "3                          david beckham is year old  \n",
       "4  david beckham famili name is and zhou jielun g...  "
      ]
     },
     "execution_count": 19,
     "metadata": {},
     "output_type": "execute_result"
    }
   ],
   "source": [
    "clean_queries.head()"
   ]
  },
  {
   "cell_type": "code",
   "execution_count": 20,
   "metadata": {},
   "outputs": [
    {
     "data": {
      "text/html": [
       "<div>\n",
       "<style scoped>\n",
       "    .dataframe tbody tr th:only-of-type {\n",
       "        vertical-align: middle;\n",
       "    }\n",
       "\n",
       "    .dataframe tbody tr th {\n",
       "        vertical-align: top;\n",
       "    }\n",
       "\n",
       "    .dataframe thead th {\n",
       "        text-align: right;\n",
       "    }\n",
       "</style>\n",
       "<table border=\"1\" class=\"dataframe\">\n",
       "  <thead>\n",
       "    <tr style=\"text-align: right;\">\n",
       "      <th></th>\n",
       "      <th>APPLYING</th>\n",
       "      <th>REMEMBERING</th>\n",
       "      <th>EVALUATING</th>\n",
       "      <th>CREATING</th>\n",
       "      <th>ANALYZING</th>\n",
       "      <th>UNDERSTANDING</th>\n",
       "    </tr>\n",
       "  </thead>\n",
       "  <tbody>\n",
       "    <tr>\n",
       "      <th>0</th>\n",
       "      <td>0</td>\n",
       "      <td>0</td>\n",
       "      <td>0</td>\n",
       "      <td>0</td>\n",
       "      <td>0</td>\n",
       "      <td>0</td>\n",
       "    </tr>\n",
       "    <tr>\n",
       "      <th>1</th>\n",
       "      <td>0</td>\n",
       "      <td>2</td>\n",
       "      <td>1</td>\n",
       "      <td>1</td>\n",
       "      <td>0</td>\n",
       "      <td>0</td>\n",
       "    </tr>\n",
       "    <tr>\n",
       "      <th>2</th>\n",
       "      <td>7</td>\n",
       "      <td>1</td>\n",
       "      <td>2</td>\n",
       "      <td>2</td>\n",
       "      <td>2</td>\n",
       "      <td>2</td>\n",
       "    </tr>\n",
       "    <tr>\n",
       "      <th>3</th>\n",
       "      <td>0</td>\n",
       "      <td>0</td>\n",
       "      <td>0</td>\n",
       "      <td>0</td>\n",
       "      <td>0</td>\n",
       "      <td>0</td>\n",
       "    </tr>\n",
       "    <tr>\n",
       "      <th>4</th>\n",
       "      <td>2</td>\n",
       "      <td>0</td>\n",
       "      <td>0</td>\n",
       "      <td>1</td>\n",
       "      <td>0</td>\n",
       "      <td>1</td>\n",
       "    </tr>\n",
       "    <tr>\n",
       "      <th>5</th>\n",
       "      <td>0</td>\n",
       "      <td>0</td>\n",
       "      <td>0</td>\n",
       "      <td>0</td>\n",
       "      <td>0</td>\n",
       "      <td>0</td>\n",
       "    </tr>\n",
       "    <tr>\n",
       "      <th>6</th>\n",
       "      <td>0</td>\n",
       "      <td>0</td>\n",
       "      <td>0</td>\n",
       "      <td>0</td>\n",
       "      <td>0</td>\n",
       "      <td>0</td>\n",
       "    </tr>\n",
       "    <tr>\n",
       "      <th>7</th>\n",
       "      <td>0</td>\n",
       "      <td>0</td>\n",
       "      <td>0</td>\n",
       "      <td>0</td>\n",
       "      <td>0</td>\n",
       "      <td>0</td>\n",
       "    </tr>\n",
       "    <tr>\n",
       "      <th>8</th>\n",
       "      <td>0</td>\n",
       "      <td>0</td>\n",
       "      <td>0</td>\n",
       "      <td>0</td>\n",
       "      <td>0</td>\n",
       "      <td>0</td>\n",
       "    </tr>\n",
       "    <tr>\n",
       "      <th>9</th>\n",
       "      <td>0</td>\n",
       "      <td>0</td>\n",
       "      <td>0</td>\n",
       "      <td>0</td>\n",
       "      <td>0</td>\n",
       "      <td>0</td>\n",
       "    </tr>\n",
       "  </tbody>\n",
       "</table>\n",
       "</div>"
      ],
      "text/plain": [
       "   APPLYING  REMEMBERING  EVALUATING  CREATING  ANALYZING  UNDERSTANDING\n",
       "0         0            0           0         0          0              0\n",
       "1         0            2           1         1          0              0\n",
       "2         7            1           2         2          2              2\n",
       "3         0            0           0         0          0              0\n",
       "4         2            0           0         1          0              1\n",
       "5         0            0           0         0          0              0\n",
       "6         0            0           0         0          0              0\n",
       "7         0            0           0         0          0              0\n",
       "8         0            0           0         0          0              0\n",
       "9         0            0           0         0          0              0"
      ]
     },
     "execution_count": 20,
     "metadata": {},
     "output_type": "execute_result"
    }
   ],
   "source": [
    "n_questions = 10\n",
    "head_paraphases = statistique.generate_bloom_result(phrases=clean_queries.text_clean.head(n_questions).values)\n",
    "head_paraphases"
   ]
  },
  {
   "cell_type": "code",
   "execution_count": 23,
   "metadata": {},
   "outputs": [],
   "source": [
    "from sklearn.model_selection import train_test_split"
   ]
  },
  {
   "cell_type": "code",
   "execution_count": 25,
   "metadata": {},
   "outputs": [],
   "source": [
    "categories = queries.columns[1:]\n",
    "X_train, X_test, y_train, y_test = train_test_split(clean_queries.text_clean, \n",
    "                                                    pd.Series(np.argmax(queries[categories].values, axis=1)), \n",
    "                                                    test_size=0.25, random_state=41)"
   ]
  },
  {
   "cell_type": "code",
   "execution_count": 26,
   "metadata": {},
   "outputs": [
    {
     "data": {
      "text/plain": [
       "182859    5\n",
       "28322     0\n",
       "176082    0\n",
       "41043     4\n",
       "13035     3\n",
       "dtype: int64"
      ]
     },
     "execution_count": 26,
     "metadata": {},
     "output_type": "execute_result"
    }
   ],
   "source": [
    "y_train.head()"
   ]
  },
  {
   "cell_type": "code",
   "execution_count": 29,
   "metadata": {},
   "outputs": [
    {
     "data": {
      "text/html": [
       "<div>\n",
       "<style scoped>\n",
       "    .dataframe tbody tr th:only-of-type {\n",
       "        vertical-align: middle;\n",
       "    }\n",
       "\n",
       "    .dataframe tbody tr th {\n",
       "        vertical-align: top;\n",
       "    }\n",
       "\n",
       "    .dataframe thead th {\n",
       "        text-align: right;\n",
       "    }\n",
       "</style>\n",
       "<table border=\"1\" class=\"dataframe\">\n",
       "  <thead>\n",
       "    <tr style=\"text-align: right;\">\n",
       "      <th></th>\n",
       "      <th>REMEMBERING</th>\n",
       "      <th>UNDERSTANDING</th>\n",
       "      <th>APPLYING</th>\n",
       "      <th>ANALYZING</th>\n",
       "      <th>EVALUATING</th>\n",
       "      <th>CREATING</th>\n",
       "    </tr>\n",
       "  </thead>\n",
       "  <tbody>\n",
       "    <tr>\n",
       "      <th>182859</th>\n",
       "      <td>0.0</td>\n",
       "      <td>0.0</td>\n",
       "      <td>0.0</td>\n",
       "      <td>0.0</td>\n",
       "      <td>0.0</td>\n",
       "      <td>1.0</td>\n",
       "    </tr>\n",
       "    <tr>\n",
       "      <th>28322</th>\n",
       "      <td>1.0</td>\n",
       "      <td>0.0</td>\n",
       "      <td>0.0</td>\n",
       "      <td>0.0</td>\n",
       "      <td>0.0</td>\n",
       "      <td>0.0</td>\n",
       "    </tr>\n",
       "    <tr>\n",
       "      <th>176082</th>\n",
       "      <td>1.0</td>\n",
       "      <td>0.0</td>\n",
       "      <td>0.0</td>\n",
       "      <td>0.0</td>\n",
       "      <td>0.0</td>\n",
       "      <td>0.0</td>\n",
       "    </tr>\n",
       "    <tr>\n",
       "      <th>41043</th>\n",
       "      <td>0.0</td>\n",
       "      <td>0.0</td>\n",
       "      <td>0.0</td>\n",
       "      <td>0.0</td>\n",
       "      <td>1.0</td>\n",
       "      <td>0.0</td>\n",
       "    </tr>\n",
       "    <tr>\n",
       "      <th>13035</th>\n",
       "      <td>0.0</td>\n",
       "      <td>0.0</td>\n",
       "      <td>0.0</td>\n",
       "      <td>1.0</td>\n",
       "      <td>0.0</td>\n",
       "      <td>0.0</td>\n",
       "    </tr>\n",
       "  </tbody>\n",
       "</table>\n",
       "</div>"
      ],
      "text/plain": [
       "        REMEMBERING  UNDERSTANDING  APPLYING  ANALYZING  EVALUATING  CREATING\n",
       "182859          0.0            0.0       0.0        0.0         0.0       1.0\n",
       "28322           1.0            0.0       0.0        0.0         0.0       0.0\n",
       "176082          1.0            0.0       0.0        0.0         0.0       0.0\n",
       "41043           0.0            0.0       0.0        0.0         1.0       0.0\n",
       "13035           0.0            0.0       0.0        1.0         0.0       0.0"
      ]
     },
     "execution_count": 29,
     "metadata": {},
     "output_type": "execute_result"
    }
   ],
   "source": [
    "queries[categories].loc[y_train.index].head()"
   ]
  },
  {
   "cell_type": "code",
   "execution_count": 30,
   "metadata": {},
   "outputs": [
    {
     "data": {
      "text/plain": [
       "54935            can the same thing appli for inferior good\n",
       "4535                                where doe the energi go\n",
       "82074     at sal said over the squar of the distanc betw...\n",
       "141706       is the prefix bi onli applic for systemat name\n",
       "158650                are polyatom ion consid to be molecul\n",
       "Name: text_clean, dtype: object"
      ]
     },
     "execution_count": 30,
     "metadata": {},
     "output_type": "execute_result"
    }
   ],
   "source": [
    "X_test.head()"
   ]
  },
  {
   "cell_type": "code",
   "execution_count": 31,
   "metadata": {},
   "outputs": [
    {
     "data": {
      "text/html": [
       "<div>\n",
       "<style scoped>\n",
       "    .dataframe tbody tr th:only-of-type {\n",
       "        vertical-align: middle;\n",
       "    }\n",
       "\n",
       "    .dataframe tbody tr th {\n",
       "        vertical-align: top;\n",
       "    }\n",
       "\n",
       "    .dataframe thead th {\n",
       "        text-align: right;\n",
       "    }\n",
       "</style>\n",
       "<table border=\"1\" class=\"dataframe\">\n",
       "  <thead>\n",
       "    <tr style=\"text-align: right;\">\n",
       "      <th></th>\n",
       "      <th>APPLYING</th>\n",
       "      <th>REMEMBERING</th>\n",
       "      <th>EVALUATING</th>\n",
       "      <th>CREATING</th>\n",
       "      <th>ANALYZING</th>\n",
       "      <th>UNDERSTANDING</th>\n",
       "    </tr>\n",
       "  </thead>\n",
       "  <tbody>\n",
       "    <tr>\n",
       "      <th>0</th>\n",
       "      <td>0</td>\n",
       "      <td>0</td>\n",
       "      <td>0</td>\n",
       "      <td>0</td>\n",
       "      <td>0</td>\n",
       "      <td>0</td>\n",
       "    </tr>\n",
       "    <tr>\n",
       "      <th>1</th>\n",
       "      <td>1</td>\n",
       "      <td>0</td>\n",
       "      <td>0</td>\n",
       "      <td>0</td>\n",
       "      <td>0</td>\n",
       "      <td>1</td>\n",
       "    </tr>\n",
       "    <tr>\n",
       "      <th>2</th>\n",
       "      <td>2</td>\n",
       "      <td>2</td>\n",
       "      <td>0</td>\n",
       "      <td>1</td>\n",
       "      <td>1</td>\n",
       "      <td>1</td>\n",
       "    </tr>\n",
       "    <tr>\n",
       "      <th>3</th>\n",
       "      <td>0</td>\n",
       "      <td>0</td>\n",
       "      <td>0</td>\n",
       "      <td>0</td>\n",
       "      <td>0</td>\n",
       "      <td>0</td>\n",
       "    </tr>\n",
       "    <tr>\n",
       "      <th>4</th>\n",
       "      <td>0</td>\n",
       "      <td>0</td>\n",
       "      <td>0</td>\n",
       "      <td>0</td>\n",
       "      <td>0</td>\n",
       "      <td>0</td>\n",
       "    </tr>\n",
       "  </tbody>\n",
       "</table>\n",
       "</div>"
      ],
      "text/plain": [
       "   APPLYING  REMEMBERING  EVALUATING  CREATING  ANALYZING  UNDERSTANDING\n",
       "0         0            0           0         0          0              0\n",
       "1         1            0           0         0          0              1\n",
       "2         2            2           0         1          1              1\n",
       "3         0            0           0         0          0              0\n",
       "4         0            0           0         0          0              0"
      ]
     },
     "execution_count": 31,
     "metadata": {},
     "output_type": "execute_result"
    }
   ],
   "source": [
    "preds = statistique.generate_bloom_result(phrases=X_test.values)\n",
    "preds.head()"
   ]
  },
  {
   "cell_type": "code",
   "execution_count": 33,
   "metadata": {},
   "outputs": [],
   "source": [
    "preds_class = np.argmax(preds[categories].values, axis=1)"
   ]
  },
  {
   "cell_type": "code",
   "execution_count": 34,
   "metadata": {},
   "outputs": [],
   "source": [
    "from sklearn import metrics"
   ]
  },
  {
   "cell_type": "code",
   "execution_count": 36,
   "metadata": {},
   "outputs": [
    {
     "data": {
      "text/plain": [
       "(47450,)"
      ]
     },
     "execution_count": 36,
     "metadata": {},
     "output_type": "execute_result"
    }
   ],
   "source": [
    "preds_class.shape"
   ]
  },
  {
   "cell_type": "markdown",
   "metadata": {},
   "source": [
    "### Score de l'approche statistique"
   ]
  },
  {
   "cell_type": "code",
   "execution_count": 37,
   "metadata": {},
   "outputs": [
    {
     "name": "stdout",
     "output_type": "stream",
     "text": [
      "               precision    recall  f1-score   support\n",
      "\n",
      "  REMEMBERING      0.291     0.828     0.431     11607\n",
      "UNDERSTANDING      0.118     0.115     0.116      2138\n",
      "     APPLYING      0.281     0.433     0.341      5897\n",
      "    ANALYZING      0.333     0.029     0.054      9836\n",
      "   EVALUATING      0.149     0.045     0.069      4147\n",
      "     CREATING      0.247     0.022     0.040     13825\n",
      "\n",
      "     accuracy                          0.278     47450\n",
      "    macro avg      0.237     0.245     0.175     47450\n",
      " weighted avg      0.266     0.278     0.182     47450\n",
      "\n"
     ]
    }
   ],
   "source": [
    "print(\n",
    "    metrics.classification_report(y_test.values, preds_class, target_names=categories, digits=3)\n",
    ")"
   ]
  },
  {
   "cell_type": "code",
   "execution_count": 38,
   "metadata": {},
   "outputs": [
    {
     "data": {
      "text/plain": [
       "Index(['REMEMBERING', 'UNDERSTANDING', 'APPLYING', 'ANALYZING', 'EVALUATING',\n",
       "       'CREATING'],\n",
       "      dtype='object')"
      ]
     },
     "execution_count": 38,
     "metadata": {},
     "output_type": "execute_result"
    }
   ],
   "source": [
    "categories"
   ]
  },
  {
   "cell_type": "code",
   "execution_count": 39,
   "metadata": {},
   "outputs": [
    {
     "data": {
      "text/html": [
       "<div>\n",
       "<style scoped>\n",
       "    .dataframe tbody tr th:only-of-type {\n",
       "        vertical-align: middle;\n",
       "    }\n",
       "\n",
       "    .dataframe tbody tr th {\n",
       "        vertical-align: top;\n",
       "    }\n",
       "\n",
       "    .dataframe thead th {\n",
       "        text-align: right;\n",
       "    }\n",
       "</style>\n",
       "<table border=\"1\" class=\"dataframe\">\n",
       "  <thead>\n",
       "    <tr style=\"text-align: right;\">\n",
       "      <th></th>\n",
       "      <th>APPLYING</th>\n",
       "      <th>REMEMBERING</th>\n",
       "      <th>EVALUATING</th>\n",
       "      <th>CREATING</th>\n",
       "      <th>ANALYZING</th>\n",
       "      <th>UNDERSTANDING</th>\n",
       "    </tr>\n",
       "  </thead>\n",
       "  <tbody>\n",
       "    <tr>\n",
       "      <th>54935</th>\n",
       "      <td>0</td>\n",
       "      <td>0</td>\n",
       "      <td>0</td>\n",
       "      <td>0</td>\n",
       "      <td>0</td>\n",
       "      <td>0</td>\n",
       "    </tr>\n",
       "    <tr>\n",
       "      <th>4535</th>\n",
       "      <td>1</td>\n",
       "      <td>0</td>\n",
       "      <td>0</td>\n",
       "      <td>0</td>\n",
       "      <td>0</td>\n",
       "      <td>1</td>\n",
       "    </tr>\n",
       "  </tbody>\n",
       "</table>\n",
       "</div>"
      ],
      "text/plain": [
       "       APPLYING  REMEMBERING  EVALUATING  CREATING  ANALYZING  UNDERSTANDING\n",
       "54935         0            0           0         0          0              0\n",
       "4535          1            0           0         0          0              1"
      ]
     },
     "execution_count": 39,
     "metadata": {},
     "output_type": "execute_result"
    }
   ],
   "source": [
    "preds.index = X_test.index\n",
    "preds.head(2)"
   ]
  },
  {
   "cell_type": "markdown",
   "metadata": {},
   "source": [
    "### Utiliser les algos de machine learning sur les sorties des données statistiques"
   ]
  },
  {
   "cell_type": "code",
   "execution_count": 40,
   "metadata": {},
   "outputs": [],
   "source": [
    "X_t1, X_t2, y_t1, y_t2 = train_test_split(preds, y_test, test_size=0.15, random_state=41)"
   ]
  },
  {
   "cell_type": "code",
   "execution_count": 42,
   "metadata": {},
   "outputs": [],
   "source": [
    "from sklearn.neighbors import KNeighborsClassifier\n",
    "from sklearn.tree import DecisionTreeClassifier\n",
    "from sklearn.ensemble import RandomForestClassifier, AdaBoostClassifier\n",
    "from sklearn.naive_bayes import MultinomialNB\n",
    "from sklearn.dummy import DummyClassifier\n",
    "from sklearn.multioutput import ClassifierChain\n",
    "from sklearn.model_selection import train_test_split\n",
    "from sklearn.multiclass import OneVsRestClassifier\n",
    "from sklearn.linear_model import LogisticRegression\n",
    "from sklearn.svm import SVC\n",
    "\n",
    "from xgboost import XGBClassifier"
   ]
  },
  {
   "cell_type": "code",
   "execution_count": 43,
   "metadata": {},
   "outputs": [],
   "source": [
    "lr = LogisticRegression(random_state=41).fit(X_t1, y_t1)"
   ]
  },
  {
   "cell_type": "code",
   "execution_count": 44,
   "metadata": {},
   "outputs": [],
   "source": [
    "y_t2_pred = lr.predict(X_t2)"
   ]
  },
  {
   "cell_type": "code",
   "execution_count": 46,
   "metadata": {},
   "outputs": [
    {
     "name": "stdout",
     "output_type": "stream",
     "text": [
      "               precision    recall  f1-score   support\n",
      "\n",
      "  REMEMBERING      0.162     0.012     0.022      1750\n",
      "UNDERSTANDING      0.000     0.000     0.000       318\n",
      "     APPLYING      0.415     0.236     0.301       865\n",
      "    ANALYZING      0.358     0.020     0.038      1462\n",
      "   EVALUATING      0.375     0.014     0.027       635\n",
      "     CREATING      0.298     0.911     0.449      2088\n",
      "\n",
      "     accuracy                          0.304      7118\n",
      "    macro avg      0.268     0.199     0.139      7118\n",
      " weighted avg      0.284     0.304     0.184      7118\n",
      "\n"
     ]
    }
   ],
   "source": [
    "print(\n",
    "    metrics.classification_report(y_t2.values, y_t2_pred, target_names=categories, digits=3)\n",
    ")"
   ]
  },
  {
   "cell_type": "code",
   "execution_count": 47,
   "metadata": {},
   "outputs": [],
   "source": [
    "lr = LogisticRegression(random_state=41, class_weight='balanced', max_iter=250).fit(X_t1, y_t1)"
   ]
  },
  {
   "cell_type": "code",
   "execution_count": 49,
   "metadata": {},
   "outputs": [
    {
     "name": "stdout",
     "output_type": "stream",
     "text": [
      "               precision    recall  f1-score   support\n",
      "\n",
      "  REMEMBERING      0.299     0.785     0.433      1750\n",
      "UNDERSTANDING      0.084     0.129     0.101       318\n",
      "     APPLYING      0.329     0.370     0.348       865\n",
      "    ANALYZING      0.289     0.009     0.017      1462\n",
      "   EVALUATING      0.147     0.169     0.157       635\n",
      "     CREATING      0.352     0.048     0.084      2088\n",
      "\n",
      "     accuracy                          0.275      7118\n",
      "    macro avg      0.250     0.252     0.190      7118\n",
      " weighted avg      0.293     0.275     0.196      7118\n",
      "\n"
     ]
    }
   ],
   "source": [
    "y_t2_pred = lr.predict(X_t2)\n",
    "print(\n",
    "    metrics.classification_report(y_t2.values, y_t2_pred, target_names=categories, digits=3)\n",
    ")"
   ]
  },
  {
   "cell_type": "code",
   "execution_count": 52,
   "metadata": {},
   "outputs": [],
   "source": [
    "svc = SVC(gamma=\"auto\", class_weight=\"balanced\").fit(X_t1, y_t1)"
   ]
  },
  {
   "cell_type": "code",
   "execution_count": 53,
   "metadata": {},
   "outputs": [
    {
     "name": "stdout",
     "output_type": "stream",
     "text": [
      "               precision    recall  f1-score   support\n",
      "\n",
      "  REMEMBERING      0.301     0.778     0.434      1750\n",
      "UNDERSTANDING      0.286     0.075     0.119       318\n",
      "     APPLYING      0.333     0.384     0.357       865\n",
      "    ANALYZING      0.316     0.042     0.074      1462\n",
      "   EVALUATING      0.173     0.306     0.221       635\n",
      "     CREATING      0.439     0.041     0.075      2088\n",
      "\n",
      "     accuracy                          0.289      7118\n",
      "    macro avg      0.308     0.271     0.213      7118\n",
      " weighted avg      0.336     0.289     0.212      7118\n",
      "\n"
     ]
    }
   ],
   "source": [
    "y_t2_pred = svc.predict(X_t2)\n",
    "print(\n",
    "    metrics.classification_report(y_t2.values, y_t2_pred, target_names=categories, digits=3)\n",
    ")"
   ]
  },
  {
   "cell_type": "code",
   "execution_count": 54,
   "metadata": {},
   "outputs": [
    {
     "name": "stdout",
     "output_type": "stream",
     "text": [
      "[21:43:20] WARNING: /workspace/src/learner.cc:480: \n",
      "Parameters: { verbose } might not be used.\n",
      "\n",
      "  This may not be accurate due to some parameters are only used in language bindings but\n",
      "  passed down to XGBoost core.  Or some parameters are not used but slip through this\n",
      "  verification. Please open an issue if you find above cases.\n",
      "\n",
      "\n"
     ]
    }
   ],
   "source": [
    "xgb = XGBClassifier(verbose=1).fit(X_t1, y_t1)"
   ]
  },
  {
   "cell_type": "code",
   "execution_count": 55,
   "metadata": {},
   "outputs": [
    {
     "name": "stdout",
     "output_type": "stream",
     "text": [
      "               precision    recall  f1-score   support\n",
      "\n",
      "  REMEMBERING      0.301     0.786     0.435      1750\n",
      "UNDERSTANDING      0.328     0.066     0.110       318\n",
      "     APPLYING      0.431     0.291     0.348       865\n",
      "    ANALYZING      0.370     0.058     0.100      1462\n",
      "   EVALUATING      0.287     0.039     0.069       635\n",
      "     CREATING      0.332     0.251     0.286      2088\n",
      "\n",
      "     accuracy                          0.321      7118\n",
      "    macro avg      0.341     0.249     0.225      7118\n",
      " weighted avg      0.340     0.321     0.265      7118\n",
      "\n"
     ]
    }
   ],
   "source": [
    "y_t2_pred = xgb.predict(X_t2)\n",
    "print(\n",
    "    metrics.classification_report(y_t2.values, y_t2_pred, target_names=categories, digits=3)\n",
    ")"
   ]
  },
  {
   "cell_type": "code",
   "execution_count": 56,
   "metadata": {},
   "outputs": [],
   "source": [
    "dt = DecisionTreeClassifier(random_state=41, class_weight=\"balanced\").fit(X_t1, y_t1)"
   ]
  },
  {
   "cell_type": "code",
   "execution_count": 57,
   "metadata": {},
   "outputs": [
    {
     "name": "stdout",
     "output_type": "stream",
     "text": [
      "               precision    recall  f1-score   support\n",
      "\n",
      "  REMEMBERING      0.301     0.760     0.431      1750\n",
      "UNDERSTANDING      0.200     0.085     0.119       318\n",
      "     APPLYING      0.349     0.351     0.350       865\n",
      "    ANALYZING      0.285     0.056     0.094      1462\n",
      "   EVALUATING      0.175     0.282     0.216       635\n",
      "     CREATING      0.389     0.071     0.120      2088\n",
      "\n",
      "     accuracy                          0.291      7118\n",
      "    macro avg      0.283     0.268     0.222      7118\n",
      " weighted avg      0.314     0.291     0.228      7118\n",
      "\n"
     ]
    }
   ],
   "source": [
    "y_t2_pred = dt.predict(X_t2)\n",
    "print(\n",
    "    metrics.classification_report(y_t2.values, y_t2_pred, target_names=categories, digits=3)\n",
    ")"
   ]
  },
  {
   "cell_type": "code",
   "execution_count": 59,
   "metadata": {},
   "outputs": [],
   "source": [
    "probs = lr.predict_proba(X_t2)\n",
    "# probs += svc.predict_proba(X_t2)\n",
    "probs += xgb.predict_proba(X_t2)\n",
    "probs += dt.predict_proba(X_t2)"
   ]
  },
  {
   "cell_type": "code",
   "execution_count": 60,
   "metadata": {},
   "outputs": [
    {
     "name": "stdout",
     "output_type": "stream",
     "text": [
      "               precision    recall  f1-score   support\n",
      "\n",
      "  REMEMBERING      0.301     0.759     0.432      1750\n",
      "UNDERSTANDING      0.275     0.079     0.122       318\n",
      "     APPLYING      0.386     0.335     0.359       865\n",
      "    ANALYZING      0.308     0.044     0.078      1462\n",
      "   EVALUATING      0.185     0.238     0.208       635\n",
      "     CREATING      0.369     0.148     0.212      2088\n",
      "\n",
      "     accuracy                          0.305      7118\n",
      "    macro avg      0.304     0.267     0.235      7118\n",
      " weighted avg      0.321     0.305     0.252      7118\n",
      "\n"
     ]
    }
   ],
   "source": [
    "y_t2_pred = np.argmax(probs, axis=1)\n",
    "print(\n",
    "    metrics.classification_report(y_t2.values, y_t2_pred, target_names=categories, digits=3)\n",
    ")"
   ]
  },
  {
   "cell_type": "markdown",
   "metadata": {},
   "source": [
    "### Approche machine learning"
   ]
  },
  {
   "cell_type": "code",
   "execution_count": 61,
   "metadata": {},
   "outputs": [],
   "source": [
    "from sklearn.pipeline import Pipeline\n",
    "from sklearn.multiclass import OneVsRestClassifier\n",
    "\n",
    "from sklearn.feature_extraction.text import CountVectorizer, TfidfVectorizer, TfidfTransformer\n",
    "\n",
    "from sklearn.multioutput import ClassifierChain\n",
    "from sklearn.multiclass import OneVsRestClassifier"
   ]
  },
  {
   "cell_type": "code",
   "execution_count": 62,
   "metadata": {},
   "outputs": [],
   "source": [
    "pipe = Pipeline([\n",
    "    ('cv', CountVectorizer()),\n",
    "    ('ovo', OneVsRestClassifier(LogisticRegression(random_state=40, class_weight=\"balanced\"))),\n",
    "])"
   ]
  },
  {
   "cell_type": "code",
   "execution_count": 64,
   "metadata": {},
   "outputs": [],
   "source": [
    "import warnings\n",
    "\n",
    "warnings.filterwarnings(\"ignore\")"
   ]
  },
  {
   "cell_type": "code",
   "execution_count": 65,
   "metadata": {
    "scrolled": true
   },
   "outputs": [],
   "source": [
    "pipe = pipe.fit(X_train, y_train)"
   ]
  },
  {
   "cell_type": "code",
   "execution_count": 66,
   "metadata": {},
   "outputs": [],
   "source": [
    "preds_class = pipe.predict(X_test)"
   ]
  },
  {
   "cell_type": "code",
   "execution_count": 67,
   "metadata": {},
   "outputs": [
    {
     "name": "stdout",
     "output_type": "stream",
     "text": [
      "               precision    recall  f1-score   support\n",
      "\n",
      "  REMEMBERING      0.867     0.867     0.867     11607\n",
      "UNDERSTANDING      0.580     0.759     0.658      2138\n",
      "     APPLYING      0.772     0.815     0.793      5897\n",
      "    ANALYZING      0.862     0.856     0.859      9836\n",
      "   EVALUATING      0.728     0.788     0.757      4147\n",
      "     CREATING      0.901     0.818     0.857     13825\n",
      "\n",
      "     accuracy                          0.832     47450\n",
      "    macro avg      0.785     0.817     0.798     47450\n",
      " weighted avg      0.839     0.832     0.834     47450\n",
      "\n"
     ]
    }
   ],
   "source": [
    "print(\n",
    "    metrics.classification_report(y_test.values, preds_class, target_names=categories, digits=3)\n",
    ")"
   ]
  },
  {
   "cell_type": "code",
   "execution_count": 68,
   "metadata": {},
   "outputs": [],
   "source": [
    "pipe = Pipeline([\n",
    "    ('cv', CountVectorizer()),\n",
    "    ('lr', LogisticRegression(random_state=40, class_weight=\"balanced\")),\n",
    "]).fit(X_train, y_train)"
   ]
  },
  {
   "cell_type": "code",
   "execution_count": 69,
   "metadata": {},
   "outputs": [
    {
     "name": "stdout",
     "output_type": "stream",
     "text": [
      "               precision    recall  f1-score   support\n",
      "\n",
      "  REMEMBERING      0.895     0.872     0.883     11607\n",
      "UNDERSTANDING      0.558     0.819     0.664      2138\n",
      "     APPLYING      0.786     0.814     0.799      5897\n",
      "    ANALYZING      0.883     0.852     0.867      9836\n",
      "   EVALUATING      0.705     0.847     0.769      4147\n",
      "     CREATING      0.919     0.826     0.870     13825\n",
      "\n",
      "     accuracy                          0.842     47450\n",
      "    macro avg      0.791     0.838     0.809     47450\n",
      " weighted avg      0.854     0.842     0.846     47450\n",
      "\n"
     ]
    }
   ],
   "source": [
    "preds_class = pipe.predict(X_test)\n",
    "print(\n",
    "    metrics.classification_report(y_test.values, preds_class, target_names=categories, digits=3)\n",
    ")"
   ]
  },
  {
   "cell_type": "code",
   "execution_count": 71,
   "metadata": {},
   "outputs": [],
   "source": [
    "pipe = Pipeline([\n",
    "    ('cv', CountVectorizer()),\n",
    "    ('xgb', XGBClassifier()),\n",
    "]).fit(X_train, y_train)"
   ]
  },
  {
   "cell_type": "code",
   "execution_count": 72,
   "metadata": {},
   "outputs": [
    {
     "name": "stdout",
     "output_type": "stream",
     "text": [
      "               precision    recall  f1-score   support\n",
      "\n",
      "  REMEMBERING      0.840     0.865     0.852     11607\n",
      "UNDERSTANDING      0.757     0.609     0.675      2138\n",
      "     APPLYING      0.784     0.765     0.774      5897\n",
      "    ANALYZING      0.816     0.850     0.833      9836\n",
      "   EVALUATING      0.795     0.671     0.728      4147\n",
      "     CREATING      0.828     0.854     0.841     13825\n",
      "\n",
      "     accuracy                          0.818     47450\n",
      "    macro avg      0.803     0.769     0.784     47450\n",
      " weighted avg      0.817     0.818     0.816     47450\n",
      "\n"
     ]
    }
   ],
   "source": [
    "preds_class = pipe.predict(X_test)\n",
    "print(\n",
    "    metrics.classification_report(y_test.values, preds_class, target_names=categories, digits=3)\n",
    ")"
   ]
  },
  {
   "cell_type": "code",
   "execution_count": 73,
   "metadata": {},
   "outputs": [],
   "source": [
    "pipe = Pipeline([\n",
    "    ('cv', CountVectorizer()),\n",
    "    ('dt', DecisionTreeClassifier(random_state=41, class_weight=\"balanced\")),\n",
    "]).fit(X_train, y_train)"
   ]
  },
  {
   "cell_type": "code",
   "execution_count": 74,
   "metadata": {},
   "outputs": [
    {
     "name": "stdout",
     "output_type": "stream",
     "text": [
      "               precision    recall  f1-score   support\n",
      "\n",
      "  REMEMBERING      0.747     0.723     0.735     11607\n",
      "UNDERSTANDING      0.479     0.570     0.521      2138\n",
      "     APPLYING      0.581     0.605     0.592      5897\n",
      "    ANALYZING      0.694     0.715     0.704      9836\n",
      "   EVALUATING      0.509     0.540     0.524      4147\n",
      "     CREATING      0.715     0.672     0.692     13825\n",
      "\n",
      "     accuracy                          0.669     47450\n",
      "    macro avg      0.621     0.637     0.628     47450\n",
      " weighted avg      0.673     0.669     0.670     47450\n",
      "\n"
     ]
    }
   ],
   "source": [
    "preds_class = pipe.predict(X_test)\n",
    "print(\n",
    "    metrics.classification_report(y_test.values, preds_class, target_names=categories, digits=3)\n",
    ")"
   ]
  },
  {
   "cell_type": "code",
   "execution_count": 76,
   "metadata": {},
   "outputs": [],
   "source": [
    "pipe = Pipeline([\n",
    "    ('cv', CountVectorizer()),\n",
    "    ('rfc', RandomForestClassifier(random_state=41, class_weight='balanced')),\n",
    "]).fit(X_train, y_train)"
   ]
  },
  {
   "cell_type": "code",
   "execution_count": 77,
   "metadata": {},
   "outputs": [
    {
     "name": "stdout",
     "output_type": "stream",
     "text": [
      "               precision    recall  f1-score   support\n",
      "\n",
      "  REMEMBERING      0.797     0.823     0.810     11607\n",
      "UNDERSTANDING      0.802     0.454     0.579      2138\n",
      "     APPLYING      0.776     0.585     0.667      5897\n",
      "    ANALYZING      0.765     0.808     0.786      9836\n",
      "   EVALUATING      0.820     0.399     0.537      4147\n",
      "     CREATING      0.700     0.881     0.780     13825\n",
      "\n",
      "     accuracy                          0.754     47450\n",
      "    macro avg      0.777     0.658     0.693     47450\n",
      " weighted avg      0.762     0.754     0.744     47450\n",
      "\n"
     ]
    }
   ],
   "source": [
    "preds_class = pipe.predict(X_test)\n",
    "print(\n",
    "    metrics.classification_report(y_test.values, preds_class, target_names=categories, digits=3)\n",
    ")"
   ]
  },
  {
   "cell_type": "code",
   "execution_count": 82,
   "metadata": {},
   "outputs": [],
   "source": [
    "class Model:\n",
    "    def __init__(self):\n",
    "        self.xgb = XGBClassifier()\n",
    "        self.lr = LogisticRegression(random_state=41, class_weight=\"balanced\")\n",
    "        self.cv = CountVectorizer()\n",
    "    \n",
    "    def fit(self, X_train, y_train):\n",
    "        X = self.cv.fit_transform(X_train)\n",
    "        self.lr.fit(X, y_train)\n",
    "        self.xgb.fit(X, y_train)\n",
    "        return\n",
    "    \n",
    "    def predict(self, X_test):\n",
    "        X = self.cv.transform(X_test)\n",
    "        probs = self.lr.predict_proba(X)\n",
    "        probs += self.xgb.predict_proba(X)\n",
    "        return np.argmax(probs, axis=1)"
   ]
  },
  {
   "cell_type": "code",
   "execution_count": 83,
   "metadata": {},
   "outputs": [],
   "source": [
    "model = Model()\n",
    "model.fit(X_train, y_train)"
   ]
  },
  {
   "cell_type": "code",
   "execution_count": 84,
   "metadata": {
    "scrolled": true
   },
   "outputs": [
    {
     "name": "stdout",
     "output_type": "stream",
     "text": [
      "               precision    recall  f1-score   support\n",
      "\n",
      "  REMEMBERING      0.892     0.886     0.889     11607\n",
      "UNDERSTANDING      0.651     0.781     0.710      2138\n",
      "     APPLYING      0.810     0.819     0.814      5897\n",
      "    ANALYZING      0.878     0.870     0.874      9836\n",
      "   EVALUATING      0.755     0.823     0.788      4147\n",
      "     CREATING      0.902     0.856     0.879     13825\n",
      "\n",
      "     accuracy                          0.856     47450\n",
      "    macro avg      0.815     0.839     0.826     47450\n",
      " weighted avg      0.859     0.856     0.857     47450\n",
      "\n"
     ]
    }
   ],
   "source": [
    "preds_class = model.predict(X_test)\n",
    "print(\n",
    "    metrics.classification_report(y_test.values, preds_class, target_names=categories, digits=3)\n",
    ")"
   ]
  },
  {
   "cell_type": "code",
   "execution_count": 87,
   "metadata": {},
   "outputs": [
    {
     "data": {
      "text/plain": [
       "(47450, 29236)"
      ]
     },
     "execution_count": 87,
     "metadata": {},
     "output_type": "execute_result"
    }
   ],
   "source": [
    "model.cv.transform(X_test).shape"
   ]
  },
  {
   "cell_type": "code",
   "execution_count": 88,
   "metadata": {},
   "outputs": [],
   "source": [
    "TfidfTransformer?"
   ]
  },
  {
   "cell_type": "code",
   "execution_count": 90,
   "metadata": {},
   "outputs": [],
   "source": [
    "pipe = Pipeline([\n",
    "    ('cv', TfidfVectorizer(sublinear_tf=True)),\n",
    "    ('lr', LogisticRegression(random_state=40, class_weight=\"balanced\")),\n",
    "]).fit(X_train, y_train)"
   ]
  },
  {
   "cell_type": "code",
   "execution_count": 91,
   "metadata": {},
   "outputs": [
    {
     "name": "stdout",
     "output_type": "stream",
     "text": [
      "               precision    recall  f1-score   support\n",
      "\n",
      "  REMEMBERING      0.892     0.859     0.875     11607\n",
      "UNDERSTANDING      0.540     0.838     0.657      2138\n",
      "     APPLYING      0.773     0.823     0.797      5897\n",
      "    ANALYZING      0.887     0.844     0.865      9836\n",
      "   EVALUATING      0.694     0.852     0.765      4147\n",
      "     CREATING      0.920     0.813     0.863     13825\n",
      "\n",
      "     accuracy                          0.836     47450\n",
      "    macro avg      0.784     0.838     0.804     47450\n",
      " weighted avg      0.851     0.836     0.840     47450\n",
      "\n"
     ]
    }
   ],
   "source": [
    "preds_class = pipe.predict(X_test)\n",
    "print(\n",
    "    metrics.classification_report(y_test.values, preds_class, target_names=categories, digits=3)\n",
    ")"
   ]
  },
  {
   "cell_type": "code",
   "execution_count": 92,
   "metadata": {},
   "outputs": [],
   "source": [
    "pipe = Pipeline([\n",
    "    ('cv', TfidfVectorizer(sublinear_tf=True)),\n",
    "    ('xgb', XGBClassifier()),\n",
    "]).fit(X_train, y_train)"
   ]
  },
  {
   "cell_type": "code",
   "execution_count": 93,
   "metadata": {},
   "outputs": [
    {
     "name": "stdout",
     "output_type": "stream",
     "text": [
      "               precision    recall  f1-score   support\n",
      "\n",
      "  REMEMBERING      0.848     0.856     0.852     11607\n",
      "UNDERSTANDING      0.763     0.589     0.665      2138\n",
      "     APPLYING      0.774     0.759     0.766      5897\n",
      "    ANALYZING      0.814     0.852     0.832      9836\n",
      "   EVALUATING      0.783     0.656     0.714      4147\n",
      "     CREATING      0.818     0.860     0.839     13825\n",
      "\n",
      "     accuracy                          0.815     47450\n",
      "    macro avg      0.800     0.762     0.778     47450\n",
      " weighted avg      0.813     0.815     0.813     47450\n",
      "\n"
     ]
    }
   ],
   "source": [
    "preds_class = pipe.predict(X_test)\n",
    "print(\n",
    "    metrics.classification_report(y_test.values, preds_class, target_names=categories, digits=3)\n",
    ")"
   ]
  },
  {
   "cell_type": "markdown",
   "metadata": {},
   "source": [
    "### Approche deeplearning : MLP"
   ]
  },
  {
   "cell_type": "code",
   "execution_count": 121,
   "metadata": {},
   "outputs": [],
   "source": [
    "import ktrain\n",
    "from ktrain import text, tabular"
   ]
  },
  {
   "cell_type": "code",
   "execution_count": 122,
   "metadata": {},
   "outputs": [
    {
     "data": {
      "text/plain": [
       "count    142349.000000\n",
       "mean         14.258386\n",
       "std           8.671093\n",
       "min           1.000000\n",
       "25%           8.000000\n",
       "50%          12.000000\n",
       "75%          18.000000\n",
       "max         106.000000\n",
       "Name: text_clean, dtype: float64"
      ]
     },
     "execution_count": 122,
     "metadata": {},
     "output_type": "execute_result"
    }
   ],
   "source": [
    "X_train.apply(lambda x: len(x.split())).describe()"
   ]
  },
  {
   "cell_type": "code",
   "execution_count": 123,
   "metadata": {},
   "outputs": [],
   "source": [
    "model_name = \"distilbert-base-uncased\"\n",
    "t = text.Transformer(model_name, maxlen=50)"
   ]
  },
  {
   "cell_type": "code",
   "execution_count": 133,
   "metadata": {},
   "outputs": [],
   "source": [
    "y_train = y_train.apply(lambda x: categories[x])\n",
    "y_test = y_test.apply(lambda x: categories[x])"
   ]
  },
  {
   "cell_type": "code",
   "execution_count": 134,
   "metadata": {
    "scrolled": true
   },
   "outputs": [
    {
     "name": "stdout",
     "output_type": "stream",
     "text": [
      "preprocessing train...\n",
      "language: en\n",
      "train sequence lengths:\n",
      "\tmean : 14\n",
      "\t95percentile : 31\n",
      "\t99percentile : 45\n",
      "Is Multi-Label? False\n",
      "preprocessing test...\n",
      "language: en\n",
      "test sequence lengths:\n",
      "\tmean : 14\n",
      "\t95percentile : 31\n",
      "\t99percentile : 46\n",
      "█\r"
     ]
    }
   ],
   "source": [
    "trn = t.preprocess_train(X_train.values, y_train.values)\n",
    "vl = t.preprocess_test(X_test.values, y_test.values)"
   ]
  },
  {
   "cell_type": "code",
   "execution_count": 135,
   "metadata": {},
   "outputs": [
    {
     "data": {
      "text/plain": [
       "12"
      ]
     },
     "execution_count": 135,
     "metadata": {},
     "output_type": "execute_result"
    }
   ],
   "source": [
    "# import gc\n",
    "\n",
    "gc.collect()"
   ]
  },
  {
   "cell_type": "code",
   "execution_count": 136,
   "metadata": {},
   "outputs": [],
   "source": [
    "model = t.get_classifier()\n",
    "learner = ktrain.get_learner(model, train_data=trn, val_data=vl, batch_size=64)"
   ]
  },
  {
   "cell_type": "code",
   "execution_count": 127,
   "metadata": {},
   "outputs": [
    {
     "name": "stdout",
     "output_type": "stream",
     "text": [
      "Model: \"tf_distil_bert_for_sequence_classification\"\n",
      "_________________________________________________________________\n",
      "Layer (type)                 Output Shape              Param #   \n",
      "=================================================================\n",
      "distilbert (TFDistilBertMain multiple                  66362880  \n",
      "_________________________________________________________________\n",
      "pre_classifier (Dense)       multiple                  590592    \n",
      "_________________________________________________________________\n",
      "classifier (Dense)           multiple                  769       \n",
      "_________________________________________________________________\n",
      "dropout_19 (Dropout)         multiple                  0         \n",
      "=================================================================\n",
      "Total params: 66,954,241\n",
      "Trainable params: 66,954,241\n",
      "Non-trainable params: 0\n",
      "_________________________________________________________________\n"
     ]
    }
   ],
   "source": [
    "model.summary()"
   ]
  },
  {
   "cell_type": "code",
   "execution_count": 137,
   "metadata": {},
   "outputs": [
    {
     "name": "stdout",
     "output_type": "stream",
     "text": [
      "simulating training for different learning rates... this may take a few moments...\n",
      "Epoch 1/5\n",
      "2224/2224 [==============================] - 684s 307ms/step - loss: 1.5096 - accuracy: 0.4101\n",
      "Epoch 2/5\n",
      "2224/2224 [==============================] - 725s 326ms/step - loss: 0.6689 - accuracy: 0.7586\n",
      "Epoch 3/5\n",
      "2224/2224 [==============================] - 724s 326ms/step - loss: 1.1615 - accuracy: 0.5384\n",
      "Epoch 4/5\n",
      "2224/2224 [==============================] - 722s 325ms/step - loss: 1.6941 - accuracy: 0.2873\n",
      "\n",
      "\n",
      "done.\n",
      "Visually inspect loss plot and select learning rate associated with falling loss\n"
     ]
    },
    {
     "data": {
      "image/png": "[encoded data removed]",
      "text/plain": [
       "<Figure size 432x288 with 1 Axes>"
      ]
     },
     "metadata": {
      "needs_background": "light"
     },
     "output_type": "display_data"
    }
   ],
   "source": [
    "learner.lr_find(max_epochs=5, suggest=True, show_plot=True)"
   ]
  },
  {
   "cell_type": "code",
   "execution_count": 138,
   "metadata": {},
   "outputs": [
    {
     "name": "stdout",
     "output_type": "stream",
     "text": [
      "Two possible suggestions for LR from plot:\n",
      "\tMin numerical gradient: 3.78E-06\n",
      "\tMin loss divided by 10: 2.12E-05\n"
     ]
    },
    {
     "data": {
      "image/png": "[encoded data removed]",
      "text/plain": [
       "<Figure size 432x288 with 1 Axes>"
      ]
     },
     "metadata": {
      "needs_background": "light"
     },
     "output_type": "display_data"
    }
   ],
   "source": [
    "learner.lr_plot(suggest=True)"
   ]
  },
  {
   "cell_type": "code",
   "execution_count": 139,
   "metadata": {},
   "outputs": [
    {
     "data": {
      "text/plain": [
       "118410"
      ]
     },
     "execution_count": 139,
     "metadata": {},
     "output_type": "execute_result"
    }
   ],
   "source": [
    "gc.collect()"
   ]
  },
  {
   "cell_type": "code",
   "execution_count": 140,
   "metadata": {},
   "outputs": [
    {
     "name": "stdout",
     "output_type": "stream",
     "text": [
      "\n",
      "\n",
      "begin training using onecycle policy with max lr of 3.78e-06...\n",
      "Epoch 1/5\n",
      "2225/2225 [==============================] - 813s 365ms/step - loss: 1.3830 - accuracy: 0.4808 - val_loss: 0.9339 - val_accuracy: 0.6717\n",
      "Epoch 2/5\n",
      "2225/2225 [==============================] - 813s 365ms/step - loss: 0.7986 - accuracy: 0.7169 - val_loss: 0.6302 - val_accuracy: 0.7753\n",
      "Epoch 3/5\n",
      "2225/2225 [==============================] - 814s 366ms/step - loss: 0.6027 - accuracy: 0.7815 - val_loss: 0.5246 - val_accuracy: 0.8084\n",
      "Epoch 4/5\n",
      "2225/2225 [==============================] - 814s 366ms/step - loss: 0.5141 - accuracy: 0.8124 - val_loss: 0.4785 - val_accuracy: 0.8256\n",
      "Epoch 5/5\n",
      "2225/2225 [==============================] - 814s 366ms/step - loss: 0.4724 - accuracy: 0.8291 - val_loss: 0.4630 - val_accuracy: 0.8327\n"
     ]
    },
    {
     "data": {
      "text/plain": [
       "<tensorflow.python.keras.callbacks.History at 0x7f671b4ecba8>"
      ]
     },
     "execution_count": 140,
     "metadata": {},
     "output_type": "execute_result"
    }
   ],
   "source": [
    "learner.fit_onecycle(3.78E-06, 5)"
   ]
  },
  {
   "cell_type": "code",
   "execution_count": 141,
   "metadata": {},
   "outputs": [
    {
     "data": {
      "text/plain": [
       "dict_keys(['loss', 'accuracy', 'val_loss', 'val_accuracy', 'lr', 'iterations', 'momentum'])"
      ]
     },
     "execution_count": 141,
     "metadata": {},
     "output_type": "execute_result"
    }
   ],
   "source": [
    "learner.history.history.keys()"
   ]
  },
  {
   "cell_type": "code",
   "execution_count": 142,
   "metadata": {},
   "outputs": [
    {
     "data": {
      "image/png": "[encoded data removed]",
      "text/plain": [
       "<Figure size 432x288 with 1 Axes>"
      ]
     },
     "metadata": {
      "needs_background": "light"
     },
     "output_type": "display_data"
    }
   ],
   "source": [
    "learner.plot()"
   ]
  },
  {
   "cell_type": "code",
   "execution_count": 143,
   "metadata": {},
   "outputs": [
    {
     "data": {
      "image/png": "[encoded data removed]",
      "text/plain": [
       "<Figure size 432x288 with 1 Axes>"
      ]
     },
     "metadata": {
      "needs_background": "light"
     },
     "output_type": "display_data"
    }
   ],
   "source": [
    "plt.plot(learner.history.history['accuracy'])\n",
    "plt.plot(learner.history.history['val_accuracy'])\n",
    "plt.title('Model Accuracy')\n",
    "plt.ylabel('accuracy')\n",
    "plt.xlabel('epoch')\n",
    "plt.legend(['train', 'validation'], loc='upper left')\n",
    "plt.show()"
   ]
  },
  {
   "cell_type": "code",
   "execution_count": 144,
   "metadata": {},
   "outputs": [
    {
     "name": "stdout",
     "output_type": "stream",
     "text": [
      "               precision    recall  f1-score   support\n",
      "\n",
      "    ANALYZING       0.84      0.87      0.85      9836\n",
      "     APPLYING       0.76      0.81      0.78      5897\n",
      "     CREATING       0.85      0.87      0.86     13825\n",
      "   EVALUATING       0.76      0.75      0.75      4147\n",
      "  REMEMBERING       0.88      0.85      0.87     11607\n",
      "UNDERSTANDING       0.71      0.60      0.65      2138\n",
      "\n",
      "     accuracy                           0.83     47450\n",
      "    macro avg       0.80      0.79      0.79     47450\n",
      " weighted avg       0.83      0.83      0.83     47450\n",
      "\n"
     ]
    }
   ],
   "source": [
    "corr = learner.validate(class_names=t.get_classes())"
   ]
  },
  {
   "cell_type": "code",
   "execution_count": 145,
   "metadata": {},
   "outputs": [
    {
     "data": {
      "text/plain": [
       "7107"
      ]
     },
     "execution_count": 145,
     "metadata": {},
     "output_type": "execute_result"
    }
   ],
   "source": [
    "gc.collect()"
   ]
  },
  {
   "cell_type": "code",
   "execution_count": 146,
   "metadata": {},
   "outputs": [
    {
     "name": "stdout",
     "output_type": "stream",
     "text": [
      "----------\n",
      "id:19732 | loss:8.41 | true:EVALUATING | pred:REMEMBERING)\n",
      "\n",
      "----------\n",
      "id:20128 | loss:7.28 | true:UNDERSTANDING | pred:CREATING)\n",
      "\n",
      "----------\n",
      "id:45387 | loss:7.25 | true:UNDERSTANDING | pred:CREATING)\n",
      "\n"
     ]
    }
   ],
   "source": [
    "learner.view_top_losses(n=3, preproc=t)"
   ]
  },
  {
   "cell_type": "code",
   "execution_count": 147,
   "metadata": {},
   "outputs": [
    {
     "name": "stdout",
     "output_type": "stream",
     "text": [
      "what is the mean of intellig design\n"
     ]
    }
   ],
   "source": [
    "print(X_test.loc[X_test.index[19732]])"
   ]
  },
  {
   "cell_type": "code",
   "execution_count": 148,
   "metadata": {},
   "outputs": [
    {
     "name": "stdout",
     "output_type": "stream",
     "text": [
      "whi is there a neg connot associ with small task do you think mark menial task made a big differ\n"
     ]
    }
   ],
   "source": [
    "print(X_test.loc[X_test.index[20128]])"
   ]
  },
  {
   "cell_type": "code",
   "execution_count": 149,
   "metadata": {},
   "outputs": [],
   "source": [
    "predictor = ktrain.get_predictor(learner.model, preproc=t)"
   ]
  },
  {
   "cell_type": "code",
   "execution_count": 150,
   "metadata": {},
   "outputs": [
    {
     "data": {
      "text/plain": [
       "'REMEMBERING'"
      ]
     },
     "execution_count": 150,
     "metadata": {},
     "output_type": "execute_result"
    }
   ],
   "source": [
    "predictor.predict(\"What is your english teacher name ?\")"
   ]
  },
  {
   "cell_type": "code",
   "execution_count": 151,
   "metadata": {},
   "outputs": [
    {
     "data": {
      "text/html": [
       "<div>\n",
       "<style scoped>\n",
       "    .dataframe tbody tr th:only-of-type {\n",
       "        vertical-align: middle;\n",
       "    }\n",
       "\n",
       "    .dataframe tbody tr th {\n",
       "        vertical-align: top;\n",
       "    }\n",
       "\n",
       "    .dataframe thead th {\n",
       "        text-align: right;\n",
       "    }\n",
       "</style>\n",
       "<table border=\"1\" class=\"dataframe\">\n",
       "  <thead>\n",
       "    <tr style=\"text-align: right;\">\n",
       "      <th></th>\n",
       "      <th>ANALYZING</th>\n",
       "      <th>APPLYING</th>\n",
       "      <th>CREATING</th>\n",
       "      <th>EVALUATING</th>\n",
       "      <th>REMEMBERING</th>\n",
       "      <th>UNDERSTANDING</th>\n",
       "    </tr>\n",
       "  </thead>\n",
       "  <tbody>\n",
       "    <tr>\n",
       "      <th>0</th>\n",
       "      <td>0.011554</td>\n",
       "      <td>0.001801</td>\n",
       "      <td>0.33089</td>\n",
       "      <td>0.001908</td>\n",
       "      <td>0.604855</td>\n",
       "      <td>0.048991</td>\n",
       "    </tr>\n",
       "  </tbody>\n",
       "</table>\n",
       "</div>"
      ],
      "text/plain": [
       "   ANALYZING  APPLYING  CREATING  EVALUATING  REMEMBERING  UNDERSTANDING\n",
       "0   0.011554  0.001801   0.33089    0.001908     0.604855       0.048991"
      ]
     },
     "execution_count": 151,
     "metadata": {},
     "output_type": "execute_result"
    }
   ],
   "source": [
    "pd.DataFrame(predictor.predict_proba('What is your english teacher name ?').reshape(1, -1),\n",
    "            columns=np.array(predictor.get_classes()))"
   ]
  },
  {
   "cell_type": "code",
   "execution_count": 152,
   "metadata": {},
   "outputs": [],
   "source": [
    "predictor.save(\"./output/dl_model/\") # Sauvegarder le modèle de deeplearning"
   ]
  },
  {
   "cell_type": "code",
   "execution_count": 153,
   "metadata": {},
   "outputs": [],
   "source": [
    "import warnings\n",
    "\n",
    "warnings.filterwarnings(\"ignore\")"
   ]
  },
  {
   "cell_type": "code",
   "execution_count": 154,
   "metadata": {},
   "outputs": [
    {
     "data": {
      "text/html": [
       "\n",
       "    <style>\n",
       "    table.eli5-weights tr:hover {\n",
       "        filter: brightness(85%);\n",
       "    }\n",
       "</style>\n",
       "\n",
       "\n",
       "\n",
       "    \n",
       "\n",
       "    \n",
       "\n",
       "    \n",
       "\n",
       "    \n",
       "\n",
       "    \n",
       "\n",
       "    \n",
       "\n",
       "\n",
       "    \n",
       "\n",
       "    \n",
       "\n",
       "    \n",
       "\n",
       "    \n",
       "        \n",
       "\n",
       "    \n",
       "\n",
       "        \n",
       "\n",
       "        \n",
       "    \n",
       "        \n",
       "        \n",
       "    \n",
       "        <p style=\"margin-bottom: 0.5em; margin-top: 0em\">\n",
       "            <b>\n",
       "    \n",
       "        y=REMEMBERING\n",
       "    \n",
       "</b>\n",
       "\n",
       "    \n",
       "    (probability <b>0.484</b>, score <b>-0.069</b>)\n",
       "\n",
       "top features\n",
       "        </p>\n",
       "    \n",
       "    <table class=\"eli5-weights\"\n",
       "           style=\"border-collapse: collapse; border: none; margin-top: 0em; table-layout: auto; margin-bottom: 2em;\">\n",
       "        <thead>\n",
       "        <tr style=\"border: none;\">\n",
       "            \n",
       "                <th style=\"padding: 0 1em 0 0.5em; text-align: right; border: none;\" title=\"Feature contribution already accounts for the feature value (for linear models, contribution = weight * feature value), and the sum of feature contributions is equal to the score or, for some classifiers, to the probability. Feature values are shown if &quot;show_feature_values&quot; is True.\">\n",
       "                    Contribution<sup>?</sup>\n",
       "                </th>\n",
       "            \n",
       "            <th style=\"padding: 0 0.5em 0 0.5em; text-align: left; border: none;\">Feature</th>\n",
       "            \n",
       "        </tr>\n",
       "        </thead>\n",
       "        <tbody>\n",
       "        \n",
       "            <tr style=\"background-color: hsl(120, 100.00%, 81.62%); border: none;\">\n",
       "    <td style=\"padding: 0 1em 0 0.5em; text-align: right; border: none;\">\n",
       "        +0.539\n",
       "    </td>\n",
       "    <td style=\"padding: 0 0.5em 0 0.5em; text-align: left; border: none;\">\n",
       "        Highlighted in text (sum)\n",
       "    </td>\n",
       "    \n",
       "</tr>\n",
       "        \n",
       "        \n",
       "\n",
       "        \n",
       "        \n",
       "            <tr style=\"background-color: hsl(0, 100.00%, 80.00%); border: none;\">\n",
       "    <td style=\"padding: 0 1em 0 0.5em; text-align: right; border: none;\">\n",
       "        -0.608\n",
       "    </td>\n",
       "    <td style=\"padding: 0 0.5em 0 0.5em; text-align: left; border: none;\">\n",
       "        &lt;BIAS&gt;\n",
       "    </td>\n",
       "    \n",
       "</tr>\n",
       "        \n",
       "\n",
       "        </tbody>\n",
       "    </table>\n",
       "\n",
       "    \n",
       "\n",
       "\n",
       "\n",
       "    <p style=\"margin-bottom: 2.5em; margin-top:-0.5em;\">\n",
       "        <span style=\"background-color: hsl(0, 100.00%, 83.02%); opacity: 0.86\" title=\"-0.953\">what</span><span style=\"opacity: 0.80\"> </span><span style=\"background-color: hsl(120, 100.00%, 64.97%); opacity: 0.97\" title=\"2.682\">is</span><span style=\"opacity: 0.80\"> </span><span style=\"background-color: hsl(0, 100.00%, 60.00%); opacity: 1.00\" title=\"-3.241\">your</span><span style=\"opacity: 0.80\"> </span><span style=\"background-color: hsl(0, 100.00%, 95.85%); opacity: 0.81\" title=\"-0.127\">english</span><span style=\"opacity: 0.80\"> </span><span style=\"background-color: hsl(120, 100.00%, 78.17%); opacity: 0.88\" title=\"1.365\">teacher</span><span style=\"opacity: 0.80\"> </span><span style=\"background-color: hsl(120, 100.00%, 62.35%); opacity: 0.98\" title=\"2.973\">name</span><span style=\"opacity: 0.80\"> ?</span>\n",
       "    </p>\n",
       "\n",
       "\n",
       "    \n",
       "\n",
       "    \n",
       "\n",
       "    \n",
       "\n",
       "    \n",
       "\n",
       "\n",
       "    \n",
       "\n",
       "    \n",
       "\n",
       "    \n",
       "\n",
       "    \n",
       "\n",
       "    \n",
       "\n",
       "    \n",
       "\n",
       "\n",
       "    \n",
       "\n",
       "    \n",
       "\n",
       "    \n",
       "\n",
       "    \n",
       "\n",
       "    \n",
       "\n",
       "    \n",
       "\n",
       "\n",
       "\n"
      ],
      "text/plain": [
       "<IPython.core.display.HTML object>"
      ]
     },
     "execution_count": 154,
     "metadata": {},
     "output_type": "execute_result"
    }
   ],
   "source": [
    "predictor.explain(\"What is your english teacher name ?\")"
   ]
  },
  {
   "cell_type": "code",
   "execution_count": null,
   "metadata": {},
   "outputs": [],
   "source": []
  }
 ],
 "metadata": {
  "kernelspec": {
   "display_name": "Python 3",
   "language": "python",
   "name": "python3"
  },
  "language_info": {
   "codemirror_mode": {
    "name": "ipython",
    "version": 3
   },
   "file_extension": ".py",
   "mimetype": "text/x-python",
   "name": "python",
   "nbconvert_exporter": "python",
   "pygments_lexer": "ipython3",
   "version": "3.6.10"
  }
 },
 "nbformat": 4,
 "nbformat_minor": 4
}
